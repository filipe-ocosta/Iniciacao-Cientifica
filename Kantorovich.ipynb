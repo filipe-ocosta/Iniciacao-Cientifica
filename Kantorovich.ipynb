{
  "nbformat": 4,
  "nbformat_minor": 0,
  "metadata": {
    "colab": {
      "name": "Kantorovich.ipynb",
      "provenance": [],
      "collapsed_sections": []
    },
    "kernelspec": {
      "name": "python3",
      "display_name": "Python 3"
    },
    "language_info": {
      "name": "python"
    }
  },
  "cells": [
    {
      "cell_type": "code",
      "metadata": {
        "colab": {
          "base_uri": "https://localhost:8080/"
        },
        "id": "ucSCP4XYHNIG",
        "outputId": "6dd1c1eb-7809-4700-a655-d9a04745691b"
      },
      "source": [
        "%pip install -i https://pypi.gurobi.com gurobipy\n",
        "import gurobipy as gp\n",
        "from gurobipy import GRB\n",
        "\n",
        "import numpy as np "
      ],
      "execution_count": 2,
      "outputs": [
        {
          "output_type": "stream",
          "name": "stdout",
          "text": [
            "Looking in indexes: https://pypi.gurobi.com\n",
            "Collecting gurobipy\n",
            "  Downloading gurobipy-9.5.1-cp37-cp37m-manylinux2014_x86_64.whl (11.5 MB)\n",
            "\u001b[K     |████████████████████████████████| 11.5 MB 9.2 MB/s \n",
            "\u001b[?25hInstalling collected packages: gurobipy\n",
            "Successfully installed gurobipy-9.5.1\n"
          ]
        }
      ]
    },
    {
      "cell_type": "code",
      "metadata": {
        "colab": {
          "base_uri": "https://localhost:8080/"
        },
        "id": "aNmGxSbSI_Pz",
        "outputId": "30c77fae-7c5d-45c4-d7c8-dc252fcd21aa"
      },
      "source": [
        "o = 10\n",
        "\n",
        "\n",
        "#criar modelo\n",
        "m = gp.Model(\"modelo\")\n",
        "\n",
        "#adicionar variaveis\n",
        "B = m.addVars(o, vtype = GRB.INTEGER, lb = 0, name = \"B\") \n",
        "C = m.addVars(o, vtype = GRB.INTEGER, lb = 0, name = \"C\")\n",
        "D = m.addVars(o, vtype = GRB.INTEGER, lb = 0, name = \"D\")\n",
        "E = m.addVars(o, vtype = GRB.INTEGER, lb = 0, name = \"E\")\n",
        "F = m.addVars(o, vtype = GRB.INTEGER, lb = 0, name = \"F\")\n",
        "G = m.addVars(o, vtype = GRB.INTEGER, lb = 0, name = \"G\")\n",
        "\n",
        "z = m.addVars(o, vtype = GRB.BINARY, lb = 0, name = \"z\")\n",
        "\n",
        "\n",
        "#montar funcao objetivo\n",
        "m.setObjective(gp.quicksum(z[i] for i in range(o)), GRB.MINIMIZE)\n",
        "\n",
        "#montar restricoes\n",
        "m.addConstrs((14*B[i] + 6.5*C[i] + 6*D[i] + 5.5*E[i] + 4.5*F[i] + 2.5*G[i] <= 29*z[i]) for i in range(o))\n",
        "m.addConstr(gp.quicksum(B[i] for i in range(o)) == 2)\n",
        "m.addConstr(gp.quicksum(C[i] for i in range(o)) == 3)\n",
        "m.addConstr(gp.quicksum(D[i] for i in range(o)) == 4)\n",
        "m.addConstr(gp.quicksum(E[i] for i in range(o)) == 1)\n",
        "m.addConstr(gp.quicksum(F[i] for i in range(o)) == 1)\n",
        "m.addConstr(gp.quicksum(G[i] for i in range(o)) == 2)\n",
        "\n",
        "m.optimize()"
      ],
      "execution_count": 3,
      "outputs": [
        {
          "output_type": "stream",
          "name": "stdout",
          "text": [
            "Restricted license - for non-production use only - expires 2023-10-25\n",
            "Gurobi Optimizer version 9.5.1 build v9.5.1rc2 (linux64)\n",
            "Thread count: 1 physical cores, 2 logical processors, using up to 2 threads\n",
            "Optimize a model with 16 rows, 70 columns and 130 nonzeros\n",
            "Model fingerprint: 0x094d275a\n",
            "Variable types: 0 continuous, 70 integer (10 binary)\n",
            "Coefficient statistics:\n",
            "  Matrix range     [1e+00, 3e+01]\n",
            "  Objective range  [1e+00, 1e+00]\n",
            "  Bounds range     [1e+00, 1e+00]\n",
            "  RHS range        [1e+00, 4e+00]\n",
            "Found heuristic solution: objective 5.0000000\n",
            "Presolve time: 0.00s\n",
            "Presolved: 16 rows, 70 columns, 130 nonzeros\n",
            "Variable types: 0 continuous, 70 integer (30 binary)\n",
            "\n",
            "Root relaxation: objective 2.982759e+00, 28 iterations, 0.00 seconds (0.00 work units)\n",
            "\n",
            "    Nodes    |    Current Node    |     Objective Bounds      |     Work\n",
            " Expl Unexpl |  Obj  Depth IntInf | Incumbent    BestBd   Gap | It/Node Time\n",
            "\n",
            "     0     0    2.98276    0    7    5.00000    2.98276  40.3%     -    0s\n",
            "H    0     0                       4.0000000    2.98276  25.4%     -    0s\n",
            "     0     0    2.98276    0    9    4.00000    2.98276  25.4%     -    0s\n",
            "H    0     0                       3.0000000    2.98276  0.57%     -    0s\n",
            "     0     0    2.98276    0    9    3.00000    2.98276  0.57%     -    0s\n",
            "\n",
            "Cutting planes:\n",
            "  Gomory: 2\n",
            "  Implied bound: 1\n",
            "  MIR: 1\n",
            "  StrongCG: 1\n",
            "\n",
            "Explored 1 nodes (45 simplex iterations) in 0.04 seconds (0.00 work units)\n",
            "Thread count was 2 (of 2 available processors)\n",
            "\n",
            "Solution count 3: 3 4 5 \n",
            "\n",
            "Optimal solution found (tolerance 1.00e-04)\n",
            "Best objective 3.000000000000e+00, best bound 3.000000000000e+00, gap 0.0000%\n"
          ]
        }
      ]
    },
    {
      "cell_type": "code",
      "metadata": {
        "colab": {
          "base_uri": "https://localhost:8080/"
        },
        "id": "RKXC3hnk5alt",
        "outputId": "d6125371-da90-466f-9da3-c90c33399787"
      },
      "source": [
        "print(\"mínimo de palitos: \"+str(m.objVal))\n",
        "\n",
        "print(\"\\n\\t\\tB\\tC\\tD\\tE\\tF\\tG\")\n",
        "\n",
        "for i in range(o):\n",
        "  print(\"\\nPalito \"+str(i+1)+\"\\t\"+str(round(B[i].X))+\"\\t\"+str(round(C[i].X))+\"\\t\"+str(round(D[i].X))+\"\\t\"+str(round(E[i].X))+\"\\t\"+str(round(F[i].X))+\"\\t\"+str(round(G[i].X)))\n",
        "\n",
        "print(\"\\n\\n------------------------------------------\")"
      ],
      "execution_count": 4,
      "outputs": [
        {
          "output_type": "stream",
          "name": "stdout",
          "text": [
            "mínimo de palitos: 3.0\n",
            "\n",
            "\t\tB\tC\tD\tE\tF\tG\n",
            "\n",
            "Palito 1\t0\t0\t0\t0\t0\t0\n",
            "\n",
            "Palito 2\t0\t0\t0\t0\t0\t0\n",
            "\n",
            "Palito 3\t0\t0\t0\t0\t0\t0\n",
            "\n",
            "Palito 4\t0\t0\t0\t0\t0\t0\n",
            "\n",
            "Palito 5\t0\t0\t0\t0\t0\t0\n",
            "\n",
            "Palito 6\t0\t0\t0\t0\t0\t0\n",
            "\n",
            "Palito 7\t0\t0\t0\t0\t0\t0\n",
            "\n",
            "Palito 8\t0\t2\t1\t1\t1\t0\n",
            "\n",
            "Palito 9\t1\t0\t2\t0\t0\t1\n",
            "\n",
            "Palito 10\t1\t1\t1\t0\t0\t1\n",
            "\n",
            "\n",
            "------------------------------------------\n"
          ]
        }
      ]
    },
    {
      "cell_type": "code",
      "metadata": {
        "id": "PbN_zhUkpUcR"
      },
      "source": [
        ""
      ],
      "execution_count": null,
      "outputs": []
    }
  ]
}